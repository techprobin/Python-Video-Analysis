#moviepy librosa deep work with music video colab research Jupyter

!pip install --upgrade pip
'''
Requirement already satisfied: pip in /usr/local/lib/python3.11/dist-packages (24.1.2)
Collecting pip
  Downloading pip-25.1-py3-none-any.whl.metadata (3.6 kB)
Downloading pip-25.1-py3-none-any.whl (1.8 MB)
   ━━━━━━━━━━━━━━━━━━━━━━━━━━━━━━━━━━━━━━━━ 1.8/1.8 MB 58.7 MB/s eta 0:00:00
Installing collected packages: pip
  Attempting uninstall: pip
    Found existing installation: pip 24.1.2
    Uninstalling pip-24.1.2:
      Successfully uninstalled pip-24.1.2
Successfully installed pip-25.1
'''

!pip install moviepy
!pip install imageio-ffmpeg # MoviePy depends on imageio-ffmpeg

#uninstall -y as forceful than option in command line
#!pip uninstall moviepy -y

!pip show moviepy
'''
Name: moviepy
Version: 2.1.2
Summary: Video editing with Python
Home-page: 
Author: Zulko 2024
Author-email: 
License: MIT License
Location: /usr/local/lib/python3.11/dist-packages
Requires: decorator, imageio, imageio_ffmpeg, numpy, pillow, proglog, python-dotenv
Required-by: 
'''

''' helper check deep moviepy
import moviepy
print(moviepy.__file__)
#/usr/local/lib/python3.11/dist-packages/moviepy/__init__.py
'''

! pip install --upgrade librosa numpy
#! pip install -U moviepy
! pip install -U soundfile
# Re-import necessary libraries after code environment reset
import os
#import moviepy.editor as mp
#instead
import moviepy as mp 
import numpy as np
import soundfile as sf
import librosa

# File paths
video_path = "/Life is Never Fair 1 short - Made by ©Prabeen.mp4"
audio_path = "/output_audio_life_is_never_fair_©Prabeen.wav"

video_path = os.path.join("path", "to", video_path)
audio_path = os.path.join("path", "to", audio_path)

# Load the video file
try:
    video = mp.VideoFileClip(video_path)
except FileNotFoundError:
    raise FileNotFoundError(f"Video file '{video_path}' not found.")

# Extract audio
audio = video.audio
audio.write_audiofile(audio_path)

# Load audio for analysis
audio_data, sr = sf.read(audio_path)

# Convert stereo to mono if needed
if audio_data.ndim > 1:
    audio_data = audio_data.mean(axis=1)

# Trim silence
trimmed, _ = librosa.effects.trim(audio_data, top_db=40)

# Extract overall tempo
tempo, _ = librosa.beat.beat_track(y=trimmed, sr=sr)

# Estimate key
chroma = librosa.feature.chroma_stft(y=trimmed, sr=sr)
key_index = chroma.mean(axis=1).argmax()
key_names = ['C', 'C#', 'D', 'D#', 'E', 'F', 'F#', 'G', 'G#', 'A', 'A#', 'B']
key_detected = key_names[key_index]

# Output results
print(f"Tempo: {tempo} BPM, Key: {key_detected}")
